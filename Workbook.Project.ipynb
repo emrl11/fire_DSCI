{
 "cells": [
  {
   "cell_type": "code",
   "execution_count": 18,
   "metadata": {},
   "outputs": [],
   "source": [
    "#proposal idea:\n",
    "#Title: The Relationship between Fine Fuel Moisture, Build-up Index, and the presence of Wildfire in the Sidi Bel-abbes region of northwest Algeria\n",
    "#Introduction:\n",
    "#There are several contributing factors that lead to the presence of forest fires, and in this project, we will classifying whether a wildfire can happen under specified fine fuel moisture and build-up index values. \n",
    "    #Fine Fuel moisture Code (FFMC) represents fuel moisture of forest litter fuels under the shade of a forest canopy\n",
    "    #The Build-Up index (BUI) is a numeric rating of the total amount of fuel available for combustion.\n",
    "#The dataset we are using includes 9 columns classifiers (of which we chose two), as well as date and time classifiers and class labels.\n",
    "    #For the class labels, there are two options: fire or not fire. \n",
    "    #For our analysis, we will only analyze the Sidi-Bel Abbes Region, as different regions may have varying abiotic and biotic characterstics that can interfere with our analysis\n",
    "#In this classification project, we will create a model that will be able to classify the values of our two variables into whether we should expect a fire or not.\n",
    "#Our exploratory table shows how many of each class (fire or no fire) there is, so we are able to visualize the distribution of our classes, and know we have enough data from both class to use in our analysis.\n",
    "#We will visualize our results with a scatterplot, where we can clearly see the relationship between our independent and dependent variables, and whether our predictions align with a previously seen trend.\n",
    "#Based on our preliminary observations, we expect that an observation with >80 FFMC and >40 Build-up Index will be classified as Fire. \n",
    "#These findings could help Wildfire Services develop ways to distrupt or control the spread of wildfires,\n",
    "#Future questions include how will the loss of available fuel (aka forests) impact the prevalence of wildfires in Algeria, and ultimately, the destroy-regrowth cycle of it's ecosystem."
   ]
  },
  {
   "cell_type": "code",
   "execution_count": 19,
   "metadata": {},
   "outputs": [],
   "source": [
    "library(tidyverse)\n",
    "library(repr)\n",
    "library(tidymodels)\n",
    "options(repr.matrix.max.rows = 6)"
   ]
  },
  {
   "cell_type": "code",
   "execution_count": 20,
   "metadata": {},
   "outputs": [
    {
     "name": "stderr",
     "output_type": "stream",
     "text": [
      "Parsed with column specification:\n",
      "cols(\n",
      "  day = \u001b[32mcol_double()\u001b[39m,\n",
      "  month = \u001b[32mcol_double()\u001b[39m,\n",
      "  year = \u001b[32mcol_double()\u001b[39m,\n",
      "  Temperature = \u001b[32mcol_double()\u001b[39m,\n",
      "  RH = \u001b[32mcol_double()\u001b[39m,\n",
      "  Ws = \u001b[32mcol_double()\u001b[39m,\n",
      "  Rain = \u001b[32mcol_double()\u001b[39m,\n",
      "  FFMC = \u001b[32mcol_double()\u001b[39m,\n",
      "  DMC = \u001b[32mcol_double()\u001b[39m,\n",
      "  DC = \u001b[31mcol_character()\u001b[39m,\n",
      "  ISI = \u001b[32mcol_double()\u001b[39m,\n",
      "  BUI = \u001b[32mcol_double()\u001b[39m,\n",
      "  FWI = \u001b[31mcol_character()\u001b[39m,\n",
      "  Classes = \u001b[31mcol_character()\u001b[39m\n",
      ")\n",
      "\n"
     ]
    },
    {
     "ename": "ERROR",
     "evalue": "Error: Problem with `filter()` input `..1`.\n\u001b[31m✖\u001b[39m 0 arguments passed to 'is.na' which requires 1\n\u001b[34mℹ\u001b[39m Input `..1` is `Classes != is.na()`.\n",
     "output_type": "error",
     "traceback": [
      "Error: Problem with `filter()` input `..1`.\n\u001b[31m✖\u001b[39m 0 arguments passed to 'is.na' which requires 1\n\u001b[34mℹ\u001b[39m Input `..1` is `Classes != is.na()`.\nTraceback:\n",
      "1. data %>% filter(Classes != is.na())",
      "2. withVisible(eval(quote(`_fseq`(`_lhs`)), env, env))",
      "3. eval(quote(`_fseq`(`_lhs`)), env, env)",
      "4. eval(quote(`_fseq`(`_lhs`)), env, env)",
      "5. `_fseq`(`_lhs`)",
      "6. freduce(value, `_function_list`)",
      "7. withVisible(function_list[[k]](value))",
      "8. function_list[[k]](value)",
      "9. filter(., Classes != is.na())",
      "10. filter.data.frame(., Classes != is.na())",
      "11. filter_rows(.data, ...)",
      "12. withCallingHandlers(mask$eval_all_filter(dots, env_filter), error = function(e) {\n  .     local_call_step(dots = dots, .index = env_filter$current_expression, \n  .         .fn = \"filter\")\n  .     abort(c(cnd_bullet_header(), x = conditionMessage(e), i = cnd_bullet_input_info(), \n  .         i = cnd_bullet_cur_group_label()), class = \"dplyr_error\")\n  . })",
      "13. mask$eval_all_filter(dots, env_filter)",
      "14. .handleSimpleError(function (e) \n  . {\n  .     local_call_step(dots = dots, .index = env_filter$current_expression, \n  .         .fn = \"filter\")\n  .     abort(c(cnd_bullet_header(), x = conditionMessage(e), i = cnd_bullet_input_info(), \n  .         i = cnd_bullet_cur_group_label()), class = \"dplyr_error\")\n  . }, \"0 arguments passed to 'is.na' which requires 1\", base::quote(is.na()))",
      "15. h(simpleError(msg, call))",
      "16. abort(c(cnd_bullet_header(), x = conditionMessage(e), i = cnd_bullet_input_info(), \n  .     i = cnd_bullet_cur_group_label()), class = \"dplyr_error\")",
      "17. signal_abort(cnd)"
     ]
    }
   ],
   "source": [
    "set.seed(1)\n",
    "data<-read_csv(\"FIREDATA.csv\", skip=126)\n",
    "  \n",
    "\n",
    "data_clean<-data%>%\n",
    "    filter(Classes!= is.na())\n",
    "\n",
    "    \n",
    "\n",
    "data_split<-initial_split(data,prop=0.75, strata=Classes)\n",
    "data_train<-training(data_split)\n",
    "data_test<-testing(data_split)\n",
    "\n",
    "data_train\n",
    "data_test\n",
    "\t\n",
    "    \n"
   ]
  },
  {
   "cell_type": "code",
   "execution_count": null,
   "metadata": {},
   "outputs": [],
   "source": [
    "data_summarize<-data_test%>%\n",
    "    group_by(Classes)%>%\n",
    "    summarize(n=n())\n",
    "data_summarize\n",
    "#from our analysis, we can see that the \"fire\" and \"no fire\" classes have 19 and 10 counts respectively in our training data. However, there is one row with missing data/variables present in the testing data"
   ]
  },
  {
   "cell_type": "code",
   "execution_count": null,
   "metadata": {},
   "outputs": [],
   "source": [
    "data_variables<-data_train%>%\n",
    "    select(FFMC, BUI, Classes)\n",
    "data_variables\n",
    "\n",
    "data_plot_initial<-data_variables%>%\n",
    "    ggplot(aes(x=FFMC, y=BUI, group=Classes))+\n",
    "    geom_point(aes(color= Classes))+\n",
    "           geom_smooth(method= lm, se=FALSE)+\n",
    "    labs(x=\"Fine Fuel Moisture\", y=\"Build-Up Index\", color=\"Class\", title= \"Build-up Index vs Fine Fuel Moisture\")+\n",
    "    theme(text=element_text(size=18))\n",
    "          \n",
    "data_plot_initial\n",
    "\n",
    "data_plot_initial_3<-data_variables%>%\n",
    "    ggplot(aes(x=FFMC, y=BUI, group=Classes))+\n",
    "    geom_point(aes(color= Classes))+\n",
    "    labs(x=\"Fine Fuel Moisture\", y=\"Build-Up Index\", color=\"Class\",title= \"Build-up Index vs Fine Fuel Moisture\")+\n",
    "    theme(text=element_text(size=18))\n",
    "\n",
    "data_plot_initial_2<-data_variables%>%\n",
    "ggplot(aes(x=FFMC, y=BUI))+\n",
    "    geom_point()+\n",
    "   geom_smooth(method= lm, se=FALSE)+\n",
    "labs(x=\"Fine Fuel Moisture\", y=\"Build-Up Index\", color=\"Class\",title= \"Build-up Index vs Fine Fuel Moisture\")+\n",
    "    theme(text=element_text(size=18))\n",
    "\n",
    "data_plot_initial_2\n",
    "data_plot_initial_3"
   ]
  },
  {
   "cell_type": "code",
   "execution_count": null,
   "metadata": {},
   "outputs": [],
   "source": [
    "\n",
    "\n",
    "#Cross validation:\n",
    "\n",
    "data_vfold<-vfold_cv(data_train, v=5,  strata= Classes) \n",
    "\n",
    "#Recipe:\n",
    "data_recipe<- recipe( Classes~ FFMC+ BUI, data= data_train)%>%\n",
    "step_scale(all_predictors())%>%\n",
    "step_center(all_predictors()) \n",
    "\n",
    "\n",
    "\n",
    "data_spec<-nearest_neighbor(weight_func=\"rectangular\", neighbors=tune())%>%\n",
    "    set_engine(\"kknn\")%>%\n",
    "    set_mode(\"classification\")\n",
    "\n",
    "data_workflow<-workflow()%>%\n",
    "    add_recipe(data_recipe)%>%\n",
    "    add_model(data_spec)%>%\n",
    "    fit_resamples(resamples=data_vfold)\n",
    "\n",
    "\n",
    "data_workflow"
   ]
  },
  {
   "cell_type": "code",
   "execution_count": null,
   "metadata": {},
   "outputs": [],
   "source": []
  },
  {
   "cell_type": "code",
   "execution_count": null,
   "metadata": {},
   "outputs": [],
   "source": []
  }
 ],
 "metadata": {
  "kernelspec": {
   "display_name": "R",
   "language": "R",
   "name": "ir"
  },
  "language_info": {
   "codemirror_mode": "r",
   "file_extension": ".r",
   "mimetype": "text/x-r-source",
   "name": "R",
   "pygments_lexer": "r",
   "version": "4.0.0"
  }
 },
 "nbformat": 4,
 "nbformat_minor": 4
}
