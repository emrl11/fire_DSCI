{
 "cells": [
  {
   "cell_type": "markdown",
   "metadata": {},
   "source": [
    "# temporary title： Predicting Algerian Forest Fires"
   ]
  },
  {
   "cell_type": "markdown",
   "metadata": {},
   "source": [
    "## Introduction"
   ]
  },
  {
   "cell_type": "markdown",
   "metadata": {},
   "source": [
    "Followings are some provisional writings.\n",
    "\n",
    "We want to study whether temperature and rainfall play a significant role in determining whether or not wildfire will occur in a forest area. We consider that some specific local conditions (such as some weather phenomena peculiar to the area) may affect the conditions of fire occurrence when selecting a specific region in Algeria. In order to prevent the occurrence of special conditions, the data set we used includes two regions in Algeria named the Bejaia Region and the Sidi Bel-Abbes Region, which are located on either side of the whole country,  with the Bejaia region located in the northeast of Algeria and the Sidi Bel-abbes region located in the northwest of  Algeria respectively. The data set has 122 instances for each region, so the data for both regions are fairly evenly distributed.\n",
    "\n",
    "research question: do temperature and rainfall play a significant role in determining whether or not forest fire will occur?\n",
    "\n",
    "If the accuracy of our trained knn model is high, that means temperature and rainfall do play a significant role, because taking these two factors into consideration correctly predicted whether a forest fire would occur to a large extent.\n",
    "\n",
    "priliminary analysis of the graph (figure 1) also clearly shows the demarcation line between fire(red) and non-fire(blue) is very clear, which means a forest fire is more likely to occur under high temperature and low rainfall, with rainfall being the dominant factor (should we mention this?)."
   ]
  },
  {
   "cell_type": "markdown",
   "metadata": {},
   "source": [
    "## Methods & Results"
   ]
  },
  {
   "cell_type": "markdown",
   "metadata": {},
   "source": [
    "The required R packages are loaded into R for data cleaning and analysis."
   ]
  },
  {
   "cell_type": "code",
   "execution_count": 7,
   "metadata": {},
   "outputs": [],
   "source": [
    "library(tidyverse)\n",
    "library(repr)\n",
    "library(tidymodels)\n",
    "options(repr.matrix.max.rows = 6)"
   ]
  },
  {
   "cell_type": "markdown",
   "metadata": {},
   "source": [
    "The following code imports the original \"Algerian forest fires\" dataset from the internet. The first row is excluded because it contains the title of the dataset, which would affect analysis later on if not properly removed."
   ]
  },
  {
   "cell_type": "code",
   "execution_count": 8,
   "metadata": {},
   "outputs": [
    {
     "name": "stderr",
     "output_type": "stream",
     "text": [
      "Parsed with column specification:\n",
      "cols(\n",
      "  day = \u001b[31mcol_character()\u001b[39m,\n",
      "  month = \u001b[31mcol_character()\u001b[39m,\n",
      "  year = \u001b[31mcol_character()\u001b[39m,\n",
      "  Temperature = \u001b[31mcol_character()\u001b[39m,\n",
      "  RH = \u001b[31mcol_character()\u001b[39m,\n",
      "  Ws = \u001b[31mcol_character()\u001b[39m,\n",
      "  Rain = \u001b[31mcol_character()\u001b[39m,\n",
      "  FFMC = \u001b[31mcol_character()\u001b[39m,\n",
      "  DMC = \u001b[31mcol_character()\u001b[39m,\n",
      "  DC = \u001b[31mcol_character()\u001b[39m,\n",
      "  ISI = \u001b[31mcol_character()\u001b[39m,\n",
      "  BUI = \u001b[31mcol_character()\u001b[39m,\n",
      "  FWI = \u001b[31mcol_character()\u001b[39m,\n",
      "  Classes = \u001b[31mcol_character()\u001b[39m\n",
      ")\n",
      "\n",
      "Warning message:\n",
      "“2 parsing failures.\n",
      "row col   expected     actual                                                                                                       file\n",
      "123  -- 14 columns 1 columns  'https://archive.ics.uci.edu/ml/machine-learning-databases/00547/Algerian_forest_fires_dataset_UPDATE.csv'\n",
      "168  -- 14 columns 13 columns 'https://archive.ics.uci.edu/ml/machine-learning-databases/00547/Algerian_forest_fires_dataset_UPDATE.csv'\n",
      "”\n"
     ]
    },
    {
     "data": {
      "text/html": [
       "<table>\n",
       "<caption>A spec_tbl_df: 246 × 14</caption>\n",
       "<thead>\n",
       "\t<tr><th scope=col>day</th><th scope=col>month</th><th scope=col>year</th><th scope=col>Temperature</th><th scope=col>RH</th><th scope=col>Ws</th><th scope=col>Rain</th><th scope=col>FFMC</th><th scope=col>DMC</th><th scope=col>DC</th><th scope=col>ISI</th><th scope=col>BUI</th><th scope=col>FWI</th><th scope=col>Classes</th></tr>\n",
       "\t<tr><th scope=col>&lt;chr&gt;</th><th scope=col>&lt;chr&gt;</th><th scope=col>&lt;chr&gt;</th><th scope=col>&lt;chr&gt;</th><th scope=col>&lt;chr&gt;</th><th scope=col>&lt;chr&gt;</th><th scope=col>&lt;chr&gt;</th><th scope=col>&lt;chr&gt;</th><th scope=col>&lt;chr&gt;</th><th scope=col>&lt;chr&gt;</th><th scope=col>&lt;chr&gt;</th><th scope=col>&lt;chr&gt;</th><th scope=col>&lt;chr&gt;</th><th scope=col>&lt;chr&gt;</th></tr>\n",
       "</thead>\n",
       "<tbody>\n",
       "\t<tr><td>01</td><td>06</td><td>2012</td><td>29</td><td>57</td><td>18</td><td>0   </td><td>65.7</td><td>3.4</td><td>7.6</td><td>1.3</td><td>3.4</td><td>0.5</td><td>not fire</td></tr>\n",
       "\t<tr><td>02</td><td>06</td><td>2012</td><td>29</td><td>61</td><td>13</td><td>1.3 </td><td>64.4</td><td>4.1</td><td>7.6</td><td>1  </td><td>3.9</td><td>0.4</td><td>not fire</td></tr>\n",
       "\t<tr><td>03</td><td>06</td><td>2012</td><td>26</td><td>82</td><td>22</td><td>13.1</td><td>47.1</td><td>2.5</td><td>7.1</td><td>0.3</td><td>2.7</td><td>0.1</td><td>not fire</td></tr>\n",
       "\t<tr><td>⋮</td><td>⋮</td><td>⋮</td><td>⋮</td><td>⋮</td><td>⋮</td><td>⋮</td><td>⋮</td><td>⋮</td><td>⋮</td><td>⋮</td><td>⋮</td><td>⋮</td><td>⋮</td></tr>\n",
       "\t<tr><td>28</td><td>09</td><td>2012</td><td>27</td><td>87</td><td>29</td><td>0.5</td><td>45.9</td><td>3.5</td><td>7.9 </td><td>0.4</td><td>3.4</td><td>0.2</td><td>not fire</td></tr>\n",
       "\t<tr><td>29</td><td>09</td><td>2012</td><td>24</td><td>54</td><td>18</td><td>0.1</td><td>79.7</td><td>4.3</td><td>15.2</td><td>1.7</td><td>5.1</td><td>0.7</td><td>not fire</td></tr>\n",
       "\t<tr><td>30</td><td>09</td><td>2012</td><td>24</td><td>64</td><td>15</td><td>0.2</td><td>67.3</td><td>3.8</td><td>16.5</td><td>1.2</td><td>4.8</td><td>0.5</td><td>not fire</td></tr>\n",
       "</tbody>\n",
       "</table>\n"
      ],
      "text/latex": [
       "A spec\\_tbl\\_df: 246 × 14\n",
       "\\begin{tabular}{llllllllllllll}\n",
       " day & month & year & Temperature & RH & Ws & Rain & FFMC & DMC & DC & ISI & BUI & FWI & Classes\\\\\n",
       " <chr> & <chr> & <chr> & <chr> & <chr> & <chr> & <chr> & <chr> & <chr> & <chr> & <chr> & <chr> & <chr> & <chr>\\\\\n",
       "\\hline\n",
       "\t 01 & 06 & 2012 & 29 & 57 & 18 & 0    & 65.7 & 3.4 & 7.6 & 1.3 & 3.4 & 0.5 & not fire\\\\\n",
       "\t 02 & 06 & 2012 & 29 & 61 & 13 & 1.3  & 64.4 & 4.1 & 7.6 & 1   & 3.9 & 0.4 & not fire\\\\\n",
       "\t 03 & 06 & 2012 & 26 & 82 & 22 & 13.1 & 47.1 & 2.5 & 7.1 & 0.3 & 2.7 & 0.1 & not fire\\\\\n",
       "\t ⋮ & ⋮ & ⋮ & ⋮ & ⋮ & ⋮ & ⋮ & ⋮ & ⋮ & ⋮ & ⋮ & ⋮ & ⋮ & ⋮\\\\\n",
       "\t 28 & 09 & 2012 & 27 & 87 & 29 & 0.5 & 45.9 & 3.5 & 7.9  & 0.4 & 3.4 & 0.2 & not fire\\\\\n",
       "\t 29 & 09 & 2012 & 24 & 54 & 18 & 0.1 & 79.7 & 4.3 & 15.2 & 1.7 & 5.1 & 0.7 & not fire\\\\\n",
       "\t 30 & 09 & 2012 & 24 & 64 & 15 & 0.2 & 67.3 & 3.8 & 16.5 & 1.2 & 4.8 & 0.5 & not fire\\\\\n",
       "\\end{tabular}\n"
      ],
      "text/markdown": [
       "\n",
       "A spec_tbl_df: 246 × 14\n",
       "\n",
       "| day &lt;chr&gt; | month &lt;chr&gt; | year &lt;chr&gt; | Temperature &lt;chr&gt; | RH &lt;chr&gt; | Ws &lt;chr&gt; | Rain &lt;chr&gt; | FFMC &lt;chr&gt; | DMC &lt;chr&gt; | DC &lt;chr&gt; | ISI &lt;chr&gt; | BUI &lt;chr&gt; | FWI &lt;chr&gt; | Classes &lt;chr&gt; |\n",
       "|---|---|---|---|---|---|---|---|---|---|---|---|---|---|\n",
       "| 01 | 06 | 2012 | 29 | 57 | 18 | 0    | 65.7 | 3.4 | 7.6 | 1.3 | 3.4 | 0.5 | not fire |\n",
       "| 02 | 06 | 2012 | 29 | 61 | 13 | 1.3  | 64.4 | 4.1 | 7.6 | 1   | 3.9 | 0.4 | not fire |\n",
       "| 03 | 06 | 2012 | 26 | 82 | 22 | 13.1 | 47.1 | 2.5 | 7.1 | 0.3 | 2.7 | 0.1 | not fire |\n",
       "| ⋮ | ⋮ | ⋮ | ⋮ | ⋮ | ⋮ | ⋮ | ⋮ | ⋮ | ⋮ | ⋮ | ⋮ | ⋮ | ⋮ |\n",
       "| 28 | 09 | 2012 | 27 | 87 | 29 | 0.5 | 45.9 | 3.5 | 7.9  | 0.4 | 3.4 | 0.2 | not fire |\n",
       "| 29 | 09 | 2012 | 24 | 54 | 18 | 0.1 | 79.7 | 4.3 | 15.2 | 1.7 | 5.1 | 0.7 | not fire |\n",
       "| 30 | 09 | 2012 | 24 | 64 | 15 | 0.2 | 67.3 | 3.8 | 16.5 | 1.2 | 4.8 | 0.5 | not fire |\n",
       "\n"
      ],
      "text/plain": [
       "    day month year Temperature RH Ws Rain FFMC DMC DC   ISI BUI FWI Classes \n",
       "1   01  06    2012 29          57 18 0    65.7 3.4 7.6  1.3 3.4 0.5 not fire\n",
       "2   02  06    2012 29          61 13 1.3  64.4 4.1 7.6  1   3.9 0.4 not fire\n",
       "3   03  06    2012 26          82 22 13.1 47.1 2.5 7.1  0.3 2.7 0.1 not fire\n",
       "⋮   ⋮   ⋮     ⋮    ⋮           ⋮  ⋮  ⋮    ⋮    ⋮   ⋮    ⋮   ⋮   ⋮   ⋮       \n",
       "244 28  09    2012 27          87 29 0.5  45.9 3.5 7.9  0.4 3.4 0.2 not fire\n",
       "245 29  09    2012 24          54 18 0.1  79.7 4.3 15.2 1.7 5.1 0.7 not fire\n",
       "246 30  09    2012 24          64 15 0.2  67.3 3.8 16.5 1.2 4.8 0.5 not fire"
      ]
     },
     "metadata": {},
     "output_type": "display_data"
    }
   ],
   "source": [
    "set.seed(1)\n",
    "messy_data<-read_csv(\"https://archive.ics.uci.edu/ml/machine-learning-databases/00547/Algerian_forest_fires_dataset_UPDATE.csv\", skip=1) \n",
    "messy_data"
   ]
  },
  {
   "cell_type": "markdown",
   "metadata": {},
   "source": [
    "Table 1. Original dataset that contains the data for the Bejaia region and the Sidi Bel-Abbes region"
   ]
  },
  {
   "cell_type": "markdown",
   "metadata": {},
   "source": [
    "Several cleaning steps were executed to wrangle and clean the messy data to a format that is acceptable for k-nn analysis. Firstly, we removed row 124 because it contained unwanted non-numerical data headings. Secondly, we removed all NAs present in the dataset using the na.omit function. Lastly, we manipulated the \"Classes\", \"Rain\" and \"Temperature\" columns of the clean data into the appropriate data classes."
   ]
  },
  {
   "cell_type": "code",
   "execution_count": 9,
   "metadata": {},
   "outputs": [
    {
     "data": {
      "text/html": [
       "<table>\n",
       "<caption>A tibble: 243 × 14</caption>\n",
       "<thead>\n",
       "\t<tr><th scope=col>day</th><th scope=col>month</th><th scope=col>year</th><th scope=col>Temperature</th><th scope=col>RH</th><th scope=col>Ws</th><th scope=col>Rain</th><th scope=col>FFMC</th><th scope=col>DMC</th><th scope=col>DC</th><th scope=col>ISI</th><th scope=col>BUI</th><th scope=col>FWI</th><th scope=col>Classes</th></tr>\n",
       "\t<tr><th scope=col>&lt;chr&gt;</th><th scope=col>&lt;chr&gt;</th><th scope=col>&lt;chr&gt;</th><th scope=col>&lt;dbl&gt;</th><th scope=col>&lt;chr&gt;</th><th scope=col>&lt;chr&gt;</th><th scope=col>&lt;dbl&gt;</th><th scope=col>&lt;chr&gt;</th><th scope=col>&lt;chr&gt;</th><th scope=col>&lt;chr&gt;</th><th scope=col>&lt;chr&gt;</th><th scope=col>&lt;chr&gt;</th><th scope=col>&lt;chr&gt;</th><th scope=col>&lt;fct&gt;</th></tr>\n",
       "</thead>\n",
       "<tbody>\n",
       "\t<tr><td>01</td><td>06</td><td>2012</td><td>29</td><td>57</td><td>18</td><td> 0.0</td><td>65.7</td><td>3.4</td><td>7.6</td><td>1.3</td><td>3.4</td><td>0.5</td><td>not fire</td></tr>\n",
       "\t<tr><td>02</td><td>06</td><td>2012</td><td>29</td><td>61</td><td>13</td><td> 1.3</td><td>64.4</td><td>4.1</td><td>7.6</td><td>1  </td><td>3.9</td><td>0.4</td><td>not fire</td></tr>\n",
       "\t<tr><td>03</td><td>06</td><td>2012</td><td>26</td><td>82</td><td>22</td><td>13.1</td><td>47.1</td><td>2.5</td><td>7.1</td><td>0.3</td><td>2.7</td><td>0.1</td><td>not fire</td></tr>\n",
       "\t<tr><td>⋮</td><td>⋮</td><td>⋮</td><td>⋮</td><td>⋮</td><td>⋮</td><td>⋮</td><td>⋮</td><td>⋮</td><td>⋮</td><td>⋮</td><td>⋮</td><td>⋮</td><td>⋮</td></tr>\n",
       "\t<tr><td>28</td><td>09</td><td>2012</td><td>27</td><td>87</td><td>29</td><td>0.5</td><td>45.9</td><td>3.5</td><td>7.9 </td><td>0.4</td><td>3.4</td><td>0.2</td><td>not fire</td></tr>\n",
       "\t<tr><td>29</td><td>09</td><td>2012</td><td>24</td><td>54</td><td>18</td><td>0.1</td><td>79.7</td><td>4.3</td><td>15.2</td><td>1.7</td><td>5.1</td><td>0.7</td><td>not fire</td></tr>\n",
       "\t<tr><td>30</td><td>09</td><td>2012</td><td>24</td><td>64</td><td>15</td><td>0.2</td><td>67.3</td><td>3.8</td><td>16.5</td><td>1.2</td><td>4.8</td><td>0.5</td><td>not fire</td></tr>\n",
       "</tbody>\n",
       "</table>\n"
      ],
      "text/latex": [
       "A tibble: 243 × 14\n",
       "\\begin{tabular}{llllllllllllll}\n",
       " day & month & year & Temperature & RH & Ws & Rain & FFMC & DMC & DC & ISI & BUI & FWI & Classes\\\\\n",
       " <chr> & <chr> & <chr> & <dbl> & <chr> & <chr> & <dbl> & <chr> & <chr> & <chr> & <chr> & <chr> & <chr> & <fct>\\\\\n",
       "\\hline\n",
       "\t 01 & 06 & 2012 & 29 & 57 & 18 &  0.0 & 65.7 & 3.4 & 7.6 & 1.3 & 3.4 & 0.5 & not fire\\\\\n",
       "\t 02 & 06 & 2012 & 29 & 61 & 13 &  1.3 & 64.4 & 4.1 & 7.6 & 1   & 3.9 & 0.4 & not fire\\\\\n",
       "\t 03 & 06 & 2012 & 26 & 82 & 22 & 13.1 & 47.1 & 2.5 & 7.1 & 0.3 & 2.7 & 0.1 & not fire\\\\\n",
       "\t ⋮ & ⋮ & ⋮ & ⋮ & ⋮ & ⋮ & ⋮ & ⋮ & ⋮ & ⋮ & ⋮ & ⋮ & ⋮ & ⋮\\\\\n",
       "\t 28 & 09 & 2012 & 27 & 87 & 29 & 0.5 & 45.9 & 3.5 & 7.9  & 0.4 & 3.4 & 0.2 & not fire\\\\\n",
       "\t 29 & 09 & 2012 & 24 & 54 & 18 & 0.1 & 79.7 & 4.3 & 15.2 & 1.7 & 5.1 & 0.7 & not fire\\\\\n",
       "\t 30 & 09 & 2012 & 24 & 64 & 15 & 0.2 & 67.3 & 3.8 & 16.5 & 1.2 & 4.8 & 0.5 & not fire\\\\\n",
       "\\end{tabular}\n"
      ],
      "text/markdown": [
       "\n",
       "A tibble: 243 × 14\n",
       "\n",
       "| day &lt;chr&gt; | month &lt;chr&gt; | year &lt;chr&gt; | Temperature &lt;dbl&gt; | RH &lt;chr&gt; | Ws &lt;chr&gt; | Rain &lt;dbl&gt; | FFMC &lt;chr&gt; | DMC &lt;chr&gt; | DC &lt;chr&gt; | ISI &lt;chr&gt; | BUI &lt;chr&gt; | FWI &lt;chr&gt; | Classes &lt;fct&gt; |\n",
       "|---|---|---|---|---|---|---|---|---|---|---|---|---|---|\n",
       "| 01 | 06 | 2012 | 29 | 57 | 18 |  0.0 | 65.7 | 3.4 | 7.6 | 1.3 | 3.4 | 0.5 | not fire |\n",
       "| 02 | 06 | 2012 | 29 | 61 | 13 |  1.3 | 64.4 | 4.1 | 7.6 | 1   | 3.9 | 0.4 | not fire |\n",
       "| 03 | 06 | 2012 | 26 | 82 | 22 | 13.1 | 47.1 | 2.5 | 7.1 | 0.3 | 2.7 | 0.1 | not fire |\n",
       "| ⋮ | ⋮ | ⋮ | ⋮ | ⋮ | ⋮ | ⋮ | ⋮ | ⋮ | ⋮ | ⋮ | ⋮ | ⋮ | ⋮ |\n",
       "| 28 | 09 | 2012 | 27 | 87 | 29 | 0.5 | 45.9 | 3.5 | 7.9  | 0.4 | 3.4 | 0.2 | not fire |\n",
       "| 29 | 09 | 2012 | 24 | 54 | 18 | 0.1 | 79.7 | 4.3 | 15.2 | 1.7 | 5.1 | 0.7 | not fire |\n",
       "| 30 | 09 | 2012 | 24 | 64 | 15 | 0.2 | 67.3 | 3.8 | 16.5 | 1.2 | 4.8 | 0.5 | not fire |\n",
       "\n"
      ],
      "text/plain": [
       "    day month year Temperature RH Ws Rain FFMC DMC DC   ISI BUI FWI Classes \n",
       "1   01  06    2012 29          57 18  0.0 65.7 3.4 7.6  1.3 3.4 0.5 not fire\n",
       "2   02  06    2012 29          61 13  1.3 64.4 4.1 7.6  1   3.9 0.4 not fire\n",
       "3   03  06    2012 26          82 22 13.1 47.1 2.5 7.1  0.3 2.7 0.1 not fire\n",
       "⋮   ⋮   ⋮     ⋮    ⋮           ⋮  ⋮  ⋮    ⋮    ⋮   ⋮    ⋮   ⋮   ⋮   ⋮       \n",
       "241 28  09    2012 27          87 29 0.5  45.9 3.5 7.9  0.4 3.4 0.2 not fire\n",
       "242 29  09    2012 24          54 18 0.1  79.7 4.3 15.2 1.7 5.1 0.7 not fire\n",
       "243 30  09    2012 24          64 15 0.2  67.3 3.8 16.5 1.2 4.8 0.5 not fire"
      ]
     },
     "metadata": {},
     "output_type": "display_data"
    }
   ],
   "source": [
    "set.seed(1)\n",
    "messy_data<-messy_data[-c(124),]\n",
    "still_messy_data<- na.omit(messy_data)\n",
    "data<-still_messy_data%>%\n",
    "    mutate(Classes=as.factor(Classes))\n",
    "data$Rain <- as.numeric(as.character(data$Rain))\n",
    "data$Temperature<-as.numeric(as.character(data$Temperature))\n",
    "data"
   ]
  },
  {
   "cell_type": "markdown",
   "metadata": {},
   "source": [
    "Table 2. Cleaned dataset that contains the data for the Bejaia region and the Sidi Bel-Abbes region"
   ]
  },
  {
   "cell_type": "markdown",
   "metadata": {},
   "source": [
    "The count and the proportion of each class (fire or no fire) in the original dataset was determined."
   ]
  },
  {
   "cell_type": "code",
   "execution_count": 10,
   "metadata": {},
   "outputs": [
    {
     "name": "stderr",
     "output_type": "stream",
     "text": [
      "`summarise()` ungrouping output (override with `.groups` argument)\n",
      "\n"
     ]
    },
    {
     "data": {
      "text/html": [
       "<table>\n",
       "<caption>A tibble: 2 × 3</caption>\n",
       "<thead>\n",
       "\t<tr><th scope=col>Classes</th><th scope=col>n</th><th scope=col>prop</th></tr>\n",
       "\t<tr><th scope=col>&lt;fct&gt;</th><th scope=col>&lt;int&gt;</th><th scope=col>&lt;dbl&gt;</th></tr>\n",
       "</thead>\n",
       "<tbody>\n",
       "\t<tr><td>fire    </td><td>137</td><td>0.563786</td></tr>\n",
       "\t<tr><td>not fire</td><td>106</td><td>0.436214</td></tr>\n",
       "</tbody>\n",
       "</table>\n"
      ],
      "text/latex": [
       "A tibble: 2 × 3\n",
       "\\begin{tabular}{lll}\n",
       " Classes & n & prop\\\\\n",
       " <fct> & <int> & <dbl>\\\\\n",
       "\\hline\n",
       "\t fire     & 137 & 0.563786\\\\\n",
       "\t not fire & 106 & 0.436214\\\\\n",
       "\\end{tabular}\n"
      ],
      "text/markdown": [
       "\n",
       "A tibble: 2 × 3\n",
       "\n",
       "| Classes &lt;fct&gt; | n &lt;int&gt; | prop &lt;dbl&gt; |\n",
       "|---|---|---|\n",
       "| fire     | 137 | 0.563786 |\n",
       "| not fire | 106 | 0.436214 |\n",
       "\n"
      ],
      "text/plain": [
       "  Classes  n   prop    \n",
       "1 fire     137 0.563786\n",
       "2 not fire 106 0.436214"
      ]
     },
     "metadata": {},
     "output_type": "display_data"
    }
   ],
   "source": [
    "data%>%\n",
    "group_by(Classes)%>%\n",
    "summarize(n=n(), prop= n()/(243))"
   ]
  },
  {
   "cell_type": "markdown",
   "metadata": {},
   "source": [
    "Table 3. Count and proportion of each class"
   ]
  },
  {
   "cell_type": "markdown",
   "metadata": {},
   "source": [
    "From this table, we can see that count of both classes are fairly evenly distributed. This represents that there are no rare classes in the dataset, and thus, no oversampling steps are required."
   ]
  },
  {
   "cell_type": "markdown",
   "metadata": {},
   "source": [
    "With the clean data in hand, we split the clean dataset by half into a training and a testing set. The class of the testing set were also removed."
   ]
  },
  {
   "cell_type": "code",
   "execution_count": 11,
   "metadata": {},
   "outputs": [
    {
     "data": {
      "text/html": [
       "<table>\n",
       "<caption>A tibble: 122 × 14</caption>\n",
       "<thead>\n",
       "\t<tr><th scope=col>day</th><th scope=col>month</th><th scope=col>year</th><th scope=col>Temperature</th><th scope=col>RH</th><th scope=col>Ws</th><th scope=col>Rain</th><th scope=col>FFMC</th><th scope=col>DMC</th><th scope=col>DC</th><th scope=col>ISI</th><th scope=col>BUI</th><th scope=col>FWI</th><th scope=col>Classes</th></tr>\n",
       "\t<tr><th scope=col>&lt;chr&gt;</th><th scope=col>&lt;chr&gt;</th><th scope=col>&lt;chr&gt;</th><th scope=col>&lt;dbl&gt;</th><th scope=col>&lt;chr&gt;</th><th scope=col>&lt;chr&gt;</th><th scope=col>&lt;dbl&gt;</th><th scope=col>&lt;chr&gt;</th><th scope=col>&lt;chr&gt;</th><th scope=col>&lt;chr&gt;</th><th scope=col>&lt;chr&gt;</th><th scope=col>&lt;chr&gt;</th><th scope=col>&lt;chr&gt;</th><th scope=col>&lt;fct&gt;</th></tr>\n",
       "</thead>\n",
       "<tbody>\n",
       "\t<tr><td>02</td><td>06</td><td>2012</td><td>29</td><td>61</td><td>13</td><td> 1.3</td><td>64.4</td><td>4.1</td><td>7.6</td><td>1  </td><td>3.9</td><td>0.4</td><td>not fire</td></tr>\n",
       "\t<tr><td>03</td><td>06</td><td>2012</td><td>26</td><td>82</td><td>22</td><td>13.1</td><td>47.1</td><td>2.5</td><td>7.1</td><td>0.3</td><td>2.7</td><td>0.1</td><td>not fire</td></tr>\n",
       "\t<tr><td>04</td><td>06</td><td>2012</td><td>25</td><td>89</td><td>13</td><td> 2.5</td><td>28.6</td><td>1.3</td><td>6.9</td><td>0  </td><td>1.7</td><td>0  </td><td>not fire</td></tr>\n",
       "\t<tr><td>⋮</td><td>⋮</td><td>⋮</td><td>⋮</td><td>⋮</td><td>⋮</td><td>⋮</td><td>⋮</td><td>⋮</td><td>⋮</td><td>⋮</td><td>⋮</td><td>⋮</td><td>⋮</td></tr>\n",
       "\t<tr><td>28</td><td>09</td><td>2012</td><td>27</td><td>87</td><td>29</td><td>0.5</td><td>45.9</td><td>3.5</td><td>7.9 </td><td>0.4</td><td>3.4</td><td>0.2</td><td>not fire</td></tr>\n",
       "\t<tr><td>29</td><td>09</td><td>2012</td><td>24</td><td>54</td><td>18</td><td>0.1</td><td>79.7</td><td>4.3</td><td>15.2</td><td>1.7</td><td>5.1</td><td>0.7</td><td>not fire</td></tr>\n",
       "\t<tr><td>30</td><td>09</td><td>2012</td><td>24</td><td>64</td><td>15</td><td>0.2</td><td>67.3</td><td>3.8</td><td>16.5</td><td>1.2</td><td>4.8</td><td>0.5</td><td>not fire</td></tr>\n",
       "</tbody>\n",
       "</table>\n"
      ],
      "text/latex": [
       "A tibble: 122 × 14\n",
       "\\begin{tabular}{llllllllllllll}\n",
       " day & month & year & Temperature & RH & Ws & Rain & FFMC & DMC & DC & ISI & BUI & FWI & Classes\\\\\n",
       " <chr> & <chr> & <chr> & <dbl> & <chr> & <chr> & <dbl> & <chr> & <chr> & <chr> & <chr> & <chr> & <chr> & <fct>\\\\\n",
       "\\hline\n",
       "\t 02 & 06 & 2012 & 29 & 61 & 13 &  1.3 & 64.4 & 4.1 & 7.6 & 1   & 3.9 & 0.4 & not fire\\\\\n",
       "\t 03 & 06 & 2012 & 26 & 82 & 22 & 13.1 & 47.1 & 2.5 & 7.1 & 0.3 & 2.7 & 0.1 & not fire\\\\\n",
       "\t 04 & 06 & 2012 & 25 & 89 & 13 &  2.5 & 28.6 & 1.3 & 6.9 & 0   & 1.7 & 0   & not fire\\\\\n",
       "\t ⋮ & ⋮ & ⋮ & ⋮ & ⋮ & ⋮ & ⋮ & ⋮ & ⋮ & ⋮ & ⋮ & ⋮ & ⋮ & ⋮\\\\\n",
       "\t 28 & 09 & 2012 & 27 & 87 & 29 & 0.5 & 45.9 & 3.5 & 7.9  & 0.4 & 3.4 & 0.2 & not fire\\\\\n",
       "\t 29 & 09 & 2012 & 24 & 54 & 18 & 0.1 & 79.7 & 4.3 & 15.2 & 1.7 & 5.1 & 0.7 & not fire\\\\\n",
       "\t 30 & 09 & 2012 & 24 & 64 & 15 & 0.2 & 67.3 & 3.8 & 16.5 & 1.2 & 4.8 & 0.5 & not fire\\\\\n",
       "\\end{tabular}\n"
      ],
      "text/markdown": [
       "\n",
       "A tibble: 122 × 14\n",
       "\n",
       "| day &lt;chr&gt; | month &lt;chr&gt; | year &lt;chr&gt; | Temperature &lt;dbl&gt; | RH &lt;chr&gt; | Ws &lt;chr&gt; | Rain &lt;dbl&gt; | FFMC &lt;chr&gt; | DMC &lt;chr&gt; | DC &lt;chr&gt; | ISI &lt;chr&gt; | BUI &lt;chr&gt; | FWI &lt;chr&gt; | Classes &lt;fct&gt; |\n",
       "|---|---|---|---|---|---|---|---|---|---|---|---|---|---|\n",
       "| 02 | 06 | 2012 | 29 | 61 | 13 |  1.3 | 64.4 | 4.1 | 7.6 | 1   | 3.9 | 0.4 | not fire |\n",
       "| 03 | 06 | 2012 | 26 | 82 | 22 | 13.1 | 47.1 | 2.5 | 7.1 | 0.3 | 2.7 | 0.1 | not fire |\n",
       "| 04 | 06 | 2012 | 25 | 89 | 13 |  2.5 | 28.6 | 1.3 | 6.9 | 0   | 1.7 | 0   | not fire |\n",
       "| ⋮ | ⋮ | ⋮ | ⋮ | ⋮ | ⋮ | ⋮ | ⋮ | ⋮ | ⋮ | ⋮ | ⋮ | ⋮ | ⋮ |\n",
       "| 28 | 09 | 2012 | 27 | 87 | 29 | 0.5 | 45.9 | 3.5 | 7.9  | 0.4 | 3.4 | 0.2 | not fire |\n",
       "| 29 | 09 | 2012 | 24 | 54 | 18 | 0.1 | 79.7 | 4.3 | 15.2 | 1.7 | 5.1 | 0.7 | not fire |\n",
       "| 30 | 09 | 2012 | 24 | 64 | 15 | 0.2 | 67.3 | 3.8 | 16.5 | 1.2 | 4.8 | 0.5 | not fire |\n",
       "\n"
      ],
      "text/plain": [
       "    day month year Temperature RH Ws Rain FFMC DMC DC   ISI BUI FWI Classes \n",
       "1   02  06    2012 29          61 13  1.3 64.4 4.1 7.6  1   3.9 0.4 not fire\n",
       "2   03  06    2012 26          82 22 13.1 47.1 2.5 7.1  0.3 2.7 0.1 not fire\n",
       "3   04  06    2012 25          89 13  2.5 28.6 1.3 6.9  0   1.7 0   not fire\n",
       "⋮   ⋮   ⋮     ⋮    ⋮           ⋮  ⋮  ⋮    ⋮    ⋮   ⋮    ⋮   ⋮   ⋮   ⋮       \n",
       "120 28  09    2012 27          87 29 0.5  45.9 3.5 7.9  0.4 3.4 0.2 not fire\n",
       "121 29  09    2012 24          54 18 0.1  79.7 4.3 15.2 1.7 5.1 0.7 not fire\n",
       "122 30  09    2012 24          64 15 0.2  67.3 3.8 16.5 1.2 4.8 0.5 not fire"
      ]
     },
     "metadata": {},
     "output_type": "display_data"
    },
    {
     "data": {
      "text/html": [
       "<table>\n",
       "<caption>A tibble: 121 × 13</caption>\n",
       "<thead>\n",
       "\t<tr><th scope=col>day</th><th scope=col>month</th><th scope=col>year</th><th scope=col>Temperature</th><th scope=col>RH</th><th scope=col>Ws</th><th scope=col>Rain</th><th scope=col>FFMC</th><th scope=col>DMC</th><th scope=col>DC</th><th scope=col>ISI</th><th scope=col>BUI</th><th scope=col>FWI</th></tr>\n",
       "\t<tr><th scope=col>&lt;chr&gt;</th><th scope=col>&lt;chr&gt;</th><th scope=col>&lt;chr&gt;</th><th scope=col>&lt;dbl&gt;</th><th scope=col>&lt;chr&gt;</th><th scope=col>&lt;chr&gt;</th><th scope=col>&lt;dbl&gt;</th><th scope=col>&lt;chr&gt;</th><th scope=col>&lt;chr&gt;</th><th scope=col>&lt;chr&gt;</th><th scope=col>&lt;chr&gt;</th><th scope=col>&lt;chr&gt;</th><th scope=col>&lt;chr&gt;</th></tr>\n",
       "</thead>\n",
       "<tbody>\n",
       "\t<tr><td>01</td><td>06</td><td>2012</td><td>29</td><td>57</td><td>18</td><td>0.0</td><td>65.7</td><td>3.4</td><td>7.6 </td><td>1.3</td><td>3.4 </td><td>0.5</td></tr>\n",
       "\t<tr><td>07</td><td>06</td><td>2012</td><td>33</td><td>54</td><td>13</td><td>0.0</td><td>88.2</td><td>9.9</td><td>30.5</td><td>6.4</td><td>10.9</td><td>7.2</td></tr>\n",
       "\t<tr><td>15</td><td>06</td><td>2012</td><td>28</td><td>80</td><td>17</td><td>3.1</td><td>49.4</td><td>3  </td><td>7.4 </td><td>0.4</td><td>3   </td><td>0.1</td></tr>\n",
       "\t<tr><td>⋮</td><td>⋮</td><td>⋮</td><td>⋮</td><td>⋮</td><td>⋮</td><td>⋮</td><td>⋮</td><td>⋮</td><td>⋮</td><td>⋮</td><td>⋮</td><td>⋮</td></tr>\n",
       "\t<tr><td>21</td><td>09</td><td>2012</td><td>35</td><td>34</td><td>17</td><td>0</td><td>92.2</td><td>23.6</td><td>97.3 </td><td>13.8</td><td>29.4</td><td>21.6</td></tr>\n",
       "\t<tr><td>23</td><td>09</td><td>2012</td><td>35</td><td>56</td><td>14</td><td>0</td><td>89  </td><td>29.4</td><td>115.6</td><td>7.5 </td><td>36  </td><td>15.2</td></tr>\n",
       "\t<tr><td>25</td><td>09</td><td>2012</td><td>28</td><td>70</td><td>15</td><td>0</td><td>79.9</td><td>13.8</td><td>36.1 </td><td>2.4 </td><td>14.1</td><td>3   </td></tr>\n",
       "</tbody>\n",
       "</table>\n"
      ],
      "text/latex": [
       "A tibble: 121 × 13\n",
       "\\begin{tabular}{lllllllllllll}\n",
       " day & month & year & Temperature & RH & Ws & Rain & FFMC & DMC & DC & ISI & BUI & FWI\\\\\n",
       " <chr> & <chr> & <chr> & <dbl> & <chr> & <chr> & <dbl> & <chr> & <chr> & <chr> & <chr> & <chr> & <chr>\\\\\n",
       "\\hline\n",
       "\t 01 & 06 & 2012 & 29 & 57 & 18 & 0.0 & 65.7 & 3.4 & 7.6  & 1.3 & 3.4  & 0.5\\\\\n",
       "\t 07 & 06 & 2012 & 33 & 54 & 13 & 0.0 & 88.2 & 9.9 & 30.5 & 6.4 & 10.9 & 7.2\\\\\n",
       "\t 15 & 06 & 2012 & 28 & 80 & 17 & 3.1 & 49.4 & 3   & 7.4  & 0.4 & 3    & 0.1\\\\\n",
       "\t ⋮ & ⋮ & ⋮ & ⋮ & ⋮ & ⋮ & ⋮ & ⋮ & ⋮ & ⋮ & ⋮ & ⋮ & ⋮\\\\\n",
       "\t 21 & 09 & 2012 & 35 & 34 & 17 & 0 & 92.2 & 23.6 & 97.3  & 13.8 & 29.4 & 21.6\\\\\n",
       "\t 23 & 09 & 2012 & 35 & 56 & 14 & 0 & 89   & 29.4 & 115.6 & 7.5  & 36   & 15.2\\\\\n",
       "\t 25 & 09 & 2012 & 28 & 70 & 15 & 0 & 79.9 & 13.8 & 36.1  & 2.4  & 14.1 & 3   \\\\\n",
       "\\end{tabular}\n"
      ],
      "text/markdown": [
       "\n",
       "A tibble: 121 × 13\n",
       "\n",
       "| day &lt;chr&gt; | month &lt;chr&gt; | year &lt;chr&gt; | Temperature &lt;dbl&gt; | RH &lt;chr&gt; | Ws &lt;chr&gt; | Rain &lt;dbl&gt; | FFMC &lt;chr&gt; | DMC &lt;chr&gt; | DC &lt;chr&gt; | ISI &lt;chr&gt; | BUI &lt;chr&gt; | FWI &lt;chr&gt; |\n",
       "|---|---|---|---|---|---|---|---|---|---|---|---|---|\n",
       "| 01 | 06 | 2012 | 29 | 57 | 18 | 0.0 | 65.7 | 3.4 | 7.6  | 1.3 | 3.4  | 0.5 |\n",
       "| 07 | 06 | 2012 | 33 | 54 | 13 | 0.0 | 88.2 | 9.9 | 30.5 | 6.4 | 10.9 | 7.2 |\n",
       "| 15 | 06 | 2012 | 28 | 80 | 17 | 3.1 | 49.4 | 3   | 7.4  | 0.4 | 3    | 0.1 |\n",
       "| ⋮ | ⋮ | ⋮ | ⋮ | ⋮ | ⋮ | ⋮ | ⋮ | ⋮ | ⋮ | ⋮ | ⋮ | ⋮ |\n",
       "| 21 | 09 | 2012 | 35 | 34 | 17 | 0 | 92.2 | 23.6 | 97.3  | 13.8 | 29.4 | 21.6 |\n",
       "| 23 | 09 | 2012 | 35 | 56 | 14 | 0 | 89   | 29.4 | 115.6 | 7.5  | 36   | 15.2 |\n",
       "| 25 | 09 | 2012 | 28 | 70 | 15 | 0 | 79.9 | 13.8 | 36.1  | 2.4  | 14.1 | 3    |\n",
       "\n"
      ],
      "text/plain": [
       "    day month year Temperature RH Ws Rain FFMC DMC  DC    ISI  BUI  FWI \n",
       "1   01  06    2012 29          57 18 0.0  65.7 3.4  7.6   1.3  3.4  0.5 \n",
       "2   07  06    2012 33          54 13 0.0  88.2 9.9  30.5  6.4  10.9 7.2 \n",
       "3   15  06    2012 28          80 17 3.1  49.4 3    7.4   0.4  3    0.1 \n",
       "⋮   ⋮   ⋮     ⋮    ⋮           ⋮  ⋮  ⋮    ⋮    ⋮    ⋮     ⋮    ⋮    ⋮   \n",
       "119 21  09    2012 35          34 17 0    92.2 23.6 97.3  13.8 29.4 21.6\n",
       "120 23  09    2012 35          56 14 0    89   29.4 115.6 7.5  36   15.2\n",
       "121 25  09    2012 28          70 15 0    79.9 13.8 36.1  2.4  14.1 3   "
      ]
     },
     "metadata": {},
     "output_type": "display_data"
    }
   ],
   "source": [
    "set.seed(1)\n",
    "data_split<-initial_split(data,prop=0.50, strata=Classes)\n",
    "data_train<-training(data_split)\n",
    "data_test_messy<-testing(data_split)\n",
    "\n",
    "data_train\n",
    "data_test<-data_test_messy%>%\n",
    "    select(-Classes)\n",
    "data_test\n"
   ]
  },
  {
   "cell_type": "markdown",
   "metadata": {},
   "source": [
    "Table 4. Training set. Table 5. Testing set without classes"
   ]
  },
  {
   "cell_type": "markdown",
   "metadata": {},
   "source": [
    "The rationale behind splitting the orginal dataset into a training and testing set is to build a model using the training data, and to assess the predicitability of the model using the testing data.\n",
    "The proportion of the original dataset that is split between the training and testing set can have strong effects on the accuracy of the model or the evaluation. We decided to split the dataset equally among a training and testing set so that there is an equal tradeoff between an accurate model with an accurate evaulation. \n"
   ]
  },
  {
   "cell_type": "markdown",
   "metadata": {},
   "source": [
    "Before the k-nn analysis, we wanted to visualize the training set, using a scatterplot, to find interesting patterns in the classifications. We created a scatterplot with the Temperature variable on the x-axis and Rain amount variable on the y-axis. The data points on the scatterplot are colour coded by their respective class- a red colour would represent the occurence of a fire, while a blue colour would represent no fire occurence."
   ]
  },
  {
   "cell_type": "code",
   "execution_count": 12,
   "metadata": {},
   "outputs": [
    {
     "data": {
      "text/html": [
       "<table>\n",
       "<caption>A tibble: 122 × 3</caption>\n",
       "<thead>\n",
       "\t<tr><th scope=col>Temperature</th><th scope=col>Rain</th><th scope=col>Classes</th></tr>\n",
       "\t<tr><th scope=col>&lt;dbl&gt;</th><th scope=col>&lt;dbl&gt;</th><th scope=col>&lt;fct&gt;</th></tr>\n",
       "</thead>\n",
       "<tbody>\n",
       "\t<tr><td>29</td><td> 1.3</td><td>not fire</td></tr>\n",
       "\t<tr><td>26</td><td>13.1</td><td>not fire</td></tr>\n",
       "\t<tr><td>25</td><td> 2.5</td><td>not fire</td></tr>\n",
       "\t<tr><td>⋮</td><td>⋮</td><td>⋮</td></tr>\n",
       "\t<tr><td>27</td><td>0.5</td><td>not fire</td></tr>\n",
       "\t<tr><td>24</td><td>0.1</td><td>not fire</td></tr>\n",
       "\t<tr><td>24</td><td>0.2</td><td>not fire</td></tr>\n",
       "</tbody>\n",
       "</table>\n"
      ],
      "text/latex": [
       "A tibble: 122 × 3\n",
       "\\begin{tabular}{lll}\n",
       " Temperature & Rain & Classes\\\\\n",
       " <dbl> & <dbl> & <fct>\\\\\n",
       "\\hline\n",
       "\t 29 &  1.3 & not fire\\\\\n",
       "\t 26 & 13.1 & not fire\\\\\n",
       "\t 25 &  2.5 & not fire\\\\\n",
       "\t ⋮ & ⋮ & ⋮\\\\\n",
       "\t 27 & 0.5 & not fire\\\\\n",
       "\t 24 & 0.1 & not fire\\\\\n",
       "\t 24 & 0.2 & not fire\\\\\n",
       "\\end{tabular}\n"
      ],
      "text/markdown": [
       "\n",
       "A tibble: 122 × 3\n",
       "\n",
       "| Temperature &lt;dbl&gt; | Rain &lt;dbl&gt; | Classes &lt;fct&gt; |\n",
       "|---|---|---|\n",
       "| 29 |  1.3 | not fire |\n",
       "| 26 | 13.1 | not fire |\n",
       "| 25 |  2.5 | not fire |\n",
       "| ⋮ | ⋮ | ⋮ |\n",
       "| 27 | 0.5 | not fire |\n",
       "| 24 | 0.1 | not fire |\n",
       "| 24 | 0.2 | not fire |\n",
       "\n"
      ],
      "text/plain": [
       "    Temperature Rain Classes \n",
       "1   29           1.3 not fire\n",
       "2   26          13.1 not fire\n",
       "3   25           2.5 not fire\n",
       "⋮   ⋮           ⋮    ⋮       \n",
       "120 27          0.5  not fire\n",
       "121 24          0.1  not fire\n",
       "122 24          0.2  not fire"
      ]
     },
     "metadata": {},
     "output_type": "display_data"
    },
    {
     "data": {
      "image/png": "[encoded data removed]",
      "text/plain": [
       "plot without title"
      ]
     },
     "metadata": {
      "image/png": {
       "height": 420,
       "width": 420
      }
     },
     "output_type": "display_data"
    }
   ],
   "source": [
    "set.seed(1)\n",
    "data_variables<-data_train%>%\n",
    "    select(Temperature, Rain, Classes)\n",
    "data_variables\n",
    "\n",
    "\n",
    "data_plot_initial<-data_variables%>%\n",
    "    ggplot(aes(x=Temperature, y=Rain, group=Classes))+\n",
    "    geom_point(aes(color= Classes))+\n",
    "    labs(x=\"Temperature\", y=\"Rain\", color=\"Class\", title= \"Temperature vs. Rain\")+\n",
    "    theme(text=element_text(size=18))+\n",
    "    scale_x_continuous()\n",
    "          \n",
    "data_plot_initial\n"
   ]
  },
  {
   "cell_type": "markdown",
   "metadata": {},
   "source": [
    "Table 6. Predictors used in analysis. Figure 1. Scatterplot of Rain and Temperature variables"
   ]
  },
  {
   "cell_type": "markdown",
   "metadata": {},
   "source": [
    "Using a scatterplot is the most appropriate visual analysis because k-nearest neighbours relies on the majority vote of neighbouring points in a scatterplot to classify a new observation. Other plots, such as a pie chart or line graph, are not suitable because we are not looking for the proportion of each class or a time series plot."
   ]
  },
  {
   "cell_type": "markdown",
   "metadata": {},
   "source": [
    "Using the v-fold function, the training data underwent 10 evenly-structured splits into training and validation sets."
   ]
  },
  {
   "cell_type": "code",
   "execution_count": 13,
   "metadata": {},
   "outputs": [],
   "source": [
    "set.seed(1)\n",
    "data_vfold<-vfold_cv(data_train, v=10,  strata= Classes) "
   ]
  },
  {
   "cell_type": "markdown",
   "metadata": {},
   "source": [
    "By splitting the data into 10 folds, there are now 10 different possibilities for the validation set. We decided to select 10 folds because the overall cross-validation accuracy is based on the average of 10 estimate accuracies of the validation set. By choosing 10 folds, we further minimize the influence of a poor validation sets, and gain a better estimate of the true accuracy."
   ]
  },
  {
   "cell_type": "markdown",
   "metadata": {},
   "source": [
    "The predictors are first scaled so that they are all standardized. Proceeding that step, a k-nn classification model with tuned parameters is specified. The final workflow includes the specified recipe, specified k-nn classification model, an argument that tries 10 k- values, and an argument that provides the accuracy of the predictions."
   ]
  },
  {
   "cell_type": "code",
   "execution_count": 14,
   "metadata": {},
   "outputs": [
    {
     "data": {
      "text/html": [
       "<table>\n",
       "<caption>A tibble: 18 × 7</caption>\n",
       "<thead>\n",
       "\t<tr><th scope=col>neighbors</th><th scope=col>.metric</th><th scope=col>.estimator</th><th scope=col>mean</th><th scope=col>n</th><th scope=col>std_err</th><th scope=col>.config</th></tr>\n",
       "\t<tr><th scope=col>&lt;int&gt;</th><th scope=col>&lt;chr&gt;</th><th scope=col>&lt;chr&gt;</th><th scope=col>&lt;dbl&gt;</th><th scope=col>&lt;int&gt;</th><th scope=col>&lt;dbl&gt;</th><th scope=col>&lt;chr&gt;</th></tr>\n",
       "</thead>\n",
       "<tbody>\n",
       "\t<tr><td>2</td><td>accuracy</td><td>binary</td><td>0.8502914</td><td>10</td><td>0.02523510</td><td>Model1</td></tr>\n",
       "\t<tr><td>2</td><td>roc_auc </td><td>binary</td><td>0.8928571</td><td>10</td><td>0.02242818</td><td>Model1</td></tr>\n",
       "\t<tr><td>3</td><td>accuracy</td><td>binary</td><td>0.8614219</td><td>10</td><td>0.02053580</td><td>Model2</td></tr>\n",
       "\t<tr><td>⋮</td><td>⋮</td><td>⋮</td><td>⋮</td><td>⋮</td><td>⋮</td><td>⋮</td></tr>\n",
       "\t<tr><td>12</td><td>roc_auc </td><td>binary</td><td>0.8880952</td><td>10</td><td>0.03160285</td><td>Model8</td></tr>\n",
       "\t<tr><td>14</td><td>accuracy</td><td>binary</td><td>0.8195221</td><td>10</td><td>0.03052140</td><td>Model9</td></tr>\n",
       "\t<tr><td>14</td><td>roc_auc </td><td>binary</td><td>0.8954762</td><td>10</td><td>0.03115006</td><td>Model9</td></tr>\n",
       "</tbody>\n",
       "</table>\n"
      ],
      "text/latex": [
       "A tibble: 18 × 7\n",
       "\\begin{tabular}{lllllll}\n",
       " neighbors & .metric & .estimator & mean & n & std\\_err & .config\\\\\n",
       " <int> & <chr> & <chr> & <dbl> & <int> & <dbl> & <chr>\\\\\n",
       "\\hline\n",
       "\t 2 & accuracy & binary & 0.8502914 & 10 & 0.02523510 & Model1\\\\\n",
       "\t 2 & roc\\_auc  & binary & 0.8928571 & 10 & 0.02242818 & Model1\\\\\n",
       "\t 3 & accuracy & binary & 0.8614219 & 10 & 0.02053580 & Model2\\\\\n",
       "\t ⋮ & ⋮ & ⋮ & ⋮ & ⋮ & ⋮ & ⋮\\\\\n",
       "\t 12 & roc\\_auc  & binary & 0.8880952 & 10 & 0.03160285 & Model8\\\\\n",
       "\t 14 & accuracy & binary & 0.8195221 & 10 & 0.03052140 & Model9\\\\\n",
       "\t 14 & roc\\_auc  & binary & 0.8954762 & 10 & 0.03115006 & Model9\\\\\n",
       "\\end{tabular}\n"
      ],
      "text/markdown": [
       "\n",
       "A tibble: 18 × 7\n",
       "\n",
       "| neighbors &lt;int&gt; | .metric &lt;chr&gt; | .estimator &lt;chr&gt; | mean &lt;dbl&gt; | n &lt;int&gt; | std_err &lt;dbl&gt; | .config &lt;chr&gt; |\n",
       "|---|---|---|---|---|---|---|\n",
       "| 2 | accuracy | binary | 0.8502914 | 10 | 0.02523510 | Model1 |\n",
       "| 2 | roc_auc  | binary | 0.8928571 | 10 | 0.02242818 | Model1 |\n",
       "| 3 | accuracy | binary | 0.8614219 | 10 | 0.02053580 | Model2 |\n",
       "| ⋮ | ⋮ | ⋮ | ⋮ | ⋮ | ⋮ | ⋮ |\n",
       "| 12 | roc_auc  | binary | 0.8880952 | 10 | 0.03160285 | Model8 |\n",
       "| 14 | accuracy | binary | 0.8195221 | 10 | 0.03052140 | Model9 |\n",
       "| 14 | roc_auc  | binary | 0.8954762 | 10 | 0.03115006 | Model9 |\n",
       "\n"
      ],
      "text/plain": [
       "   neighbors .metric  .estimator mean      n  std_err    .config\n",
       "1  2         accuracy binary     0.8502914 10 0.02523510 Model1 \n",
       "2  2         roc_auc  binary     0.8928571 10 0.02242818 Model1 \n",
       "3  3         accuracy binary     0.8614219 10 0.02053580 Model2 \n",
       "⋮  ⋮         ⋮        ⋮          ⋮         ⋮  ⋮          ⋮      \n",
       "16 12        roc_auc  binary     0.8880952 10 0.03160285 Model8 \n",
       "17 14        accuracy binary     0.8195221 10 0.03052140 Model9 \n",
       "18 14        roc_auc  binary     0.8954762 10 0.03115006 Model9 "
      ]
     },
     "metadata": {},
     "output_type": "display_data"
    }
   ],
   "source": [
    "#Recipe:\n",
    "data_recipe<- recipe( Classes~ Temperature+ Rain, data= data_train)%>%\n",
    "step_scale(all_predictors())%>%\n",
    "step_center(all_predictors()) \n",
    "\n",
    "data_spec<-nearest_neighbor(weight_func=\"rectangular\", neighbors=tune())%>%\n",
    "    set_engine(\"kknn\")%>%\n",
    "    set_mode(\"classification\")\n",
    "\n",
    "data_workflow<-workflow()%>%\n",
    "    add_recipe(data_recipe)%>%\n",
    "    add_model(data_spec)%>%\n",
    "    tune_grid(resamples=data_vfold,grid=10)%>%\n",
    "    collect_metrics()\n",
    "\n",
    "data_workflow"
   ]
  },
  {
   "cell_type": "markdown",
   "metadata": {},
   "source": [
    "Table 7. Estimated prediction accuracy of each k- nearest neighbour"
   ]
  },
  {
   "cell_type": "markdown",
   "metadata": {},
   "source": [
    "The accuracy estimate of each k-value is filtered from the metrics dataset and plotted on a line plot with their respective k-value."
   ]
  },
  {
   "cell_type": "code",
   "execution_count": 15,
   "metadata": {},
   "outputs": [
    {
     "data": {
      "image/png": "[encoded data removed]",
      "text/plain": [
       "plot without title"
      ]
     },
     "metadata": {
      "image/png": {
       "height": 420,
       "width": 420
      }
     },
     "output_type": "display_data"
    }
   ],
   "source": [
    "set.seed(1)\n",
    "\n",
    "accuracies<-data_workflow%>%\n",
    "    filter(.metric==\"accuracy\")\n",
    "\n",
    "accuracy_versus_k<-ggplot(accuracies, aes(x=neighbors, y=mean))+\n",
    "    geom_point()+\n",
    "    geom_line()+\n",
    "    labs(x=\"Neighbors\", y=\"Accuracy Estimate\")+\n",
    "    theme(text=element_text(size=20))+\n",
    "    scale_x_continuous(breaks = seq(0, 14, by = 1)) \n",
    "\n",
    "accuracy_versus_k"
   ]
  },
  {
   "cell_type": "markdown",
   "metadata": {},
   "source": [
    "Figure 2. Line graph of the accuracy estimate for each neighbour"
   ]
  },
  {
   "cell_type": "markdown",
   "metadata": {},
   "source": [
    "The purpose of producing a line plot is to visualize the estimate of the true accuracy for each k-value, and help us select the number of neighbours that is most appropriate for the classification model. We decided to select the k-value that had the greatest percent accuracy, and had nearby k-values that did not differ significantly in accuracy (<1% accuracy difference). The line visualization of estimated accuracies suggests that a k-value of 7 is the most appropriate number because it offered a satisfactory amount of accuracy and doesn't have major estimate accuracy differences with it's nearby k-values. Values we see on this plot are estimates of the true accuracy of our classifier. Although the  𝐾= 2, 3 value is higher than all the others on this plot, that doesn’t mean the classifier is necessarily more accurate with this parameter value."
   ]
  },
  {
   "cell_type": "markdown",
   "metadata": {},
   "source": [
    "In the final few steps, we retrained k-nn model using k = 7 it is used on the testing set to predict the classes and calculate the accuracy of the predicitions. "
   ]
  },
  {
   "cell_type": "code",
   "execution_count": 16,
   "metadata": {},
   "outputs": [
    {
     "data": {
      "text/html": [
       "<table>\n",
       "<caption>A tibble: 121 × 15</caption>\n",
       "<thead>\n",
       "\t<tr><th scope=col>.pred_class</th><th scope=col>day</th><th scope=col>month</th><th scope=col>year</th><th scope=col>Temperature</th><th scope=col>RH</th><th scope=col>Ws</th><th scope=col>Rain</th><th scope=col>FFMC</th><th scope=col>DMC</th><th scope=col>DC</th><th scope=col>ISI</th><th scope=col>BUI</th><th scope=col>FWI</th><th scope=col>Classes</th></tr>\n",
       "\t<tr><th scope=col>&lt;fct&gt;</th><th scope=col>&lt;chr&gt;</th><th scope=col>&lt;chr&gt;</th><th scope=col>&lt;chr&gt;</th><th scope=col>&lt;dbl&gt;</th><th scope=col>&lt;chr&gt;</th><th scope=col>&lt;chr&gt;</th><th scope=col>&lt;dbl&gt;</th><th scope=col>&lt;chr&gt;</th><th scope=col>&lt;chr&gt;</th><th scope=col>&lt;chr&gt;</th><th scope=col>&lt;chr&gt;</th><th scope=col>&lt;chr&gt;</th><th scope=col>&lt;chr&gt;</th><th scope=col>&lt;fct&gt;</th></tr>\n",
       "</thead>\n",
       "<tbody>\n",
       "\t<tr><td>fire    </td><td>01</td><td>06</td><td>2012</td><td>29</td><td>57</td><td>18</td><td>0.0</td><td>65.7</td><td>3.4</td><td>7.6 </td><td>1.3</td><td>3.4 </td><td>0.5</td><td>not fire</td></tr>\n",
       "\t<tr><td>fire    </td><td>07</td><td>06</td><td>2012</td><td>33</td><td>54</td><td>13</td><td>0.0</td><td>88.2</td><td>9.9</td><td>30.5</td><td>6.4</td><td>10.9</td><td>7.2</td><td>fire    </td></tr>\n",
       "\t<tr><td>not fire</td><td>15</td><td>06</td><td>2012</td><td>28</td><td>80</td><td>17</td><td>3.1</td><td>49.4</td><td>3  </td><td>7.4 </td><td>0.4</td><td>3   </td><td>0.1</td><td>not fire</td></tr>\n",
       "\t<tr><td>⋮</td><td>⋮</td><td>⋮</td><td>⋮</td><td>⋮</td><td>⋮</td><td>⋮</td><td>⋮</td><td>⋮</td><td>⋮</td><td>⋮</td><td>⋮</td><td>⋮</td><td>⋮</td><td>⋮</td></tr>\n",
       "\t<tr><td>fire    </td><td>21</td><td>09</td><td>2012</td><td>35</td><td>34</td><td>17</td><td>0</td><td>92.2</td><td>23.6</td><td>97.3 </td><td>13.8</td><td>29.4</td><td>21.6</td><td>fire    </td></tr>\n",
       "\t<tr><td>fire    </td><td>23</td><td>09</td><td>2012</td><td>35</td><td>56</td><td>14</td><td>0</td><td>89  </td><td>29.4</td><td>115.6</td><td>7.5 </td><td>36  </td><td>15.2</td><td>fire    </td></tr>\n",
       "\t<tr><td>not fire</td><td>25</td><td>09</td><td>2012</td><td>28</td><td>70</td><td>15</td><td>0</td><td>79.9</td><td>13.8</td><td>36.1 </td><td>2.4 </td><td>14.1</td><td>3   </td><td>not fire</td></tr>\n",
       "</tbody>\n",
       "</table>\n"
      ],
      "text/latex": [
       "A tibble: 121 × 15\n",
       "\\begin{tabular}{lllllllllllllll}\n",
       " .pred\\_class & day & month & year & Temperature & RH & Ws & Rain & FFMC & DMC & DC & ISI & BUI & FWI & Classes\\\\\n",
       " <fct> & <chr> & <chr> & <chr> & <dbl> & <chr> & <chr> & <dbl> & <chr> & <chr> & <chr> & <chr> & <chr> & <chr> & <fct>\\\\\n",
       "\\hline\n",
       "\t fire     & 01 & 06 & 2012 & 29 & 57 & 18 & 0.0 & 65.7 & 3.4 & 7.6  & 1.3 & 3.4  & 0.5 & not fire\\\\\n",
       "\t fire     & 07 & 06 & 2012 & 33 & 54 & 13 & 0.0 & 88.2 & 9.9 & 30.5 & 6.4 & 10.9 & 7.2 & fire    \\\\\n",
       "\t not fire & 15 & 06 & 2012 & 28 & 80 & 17 & 3.1 & 49.4 & 3   & 7.4  & 0.4 & 3    & 0.1 & not fire\\\\\n",
       "\t ⋮ & ⋮ & ⋮ & ⋮ & ⋮ & ⋮ & ⋮ & ⋮ & ⋮ & ⋮ & ⋮ & ⋮ & ⋮ & ⋮ & ⋮\\\\\n",
       "\t fire     & 21 & 09 & 2012 & 35 & 34 & 17 & 0 & 92.2 & 23.6 & 97.3  & 13.8 & 29.4 & 21.6 & fire    \\\\\n",
       "\t fire     & 23 & 09 & 2012 & 35 & 56 & 14 & 0 & 89   & 29.4 & 115.6 & 7.5  & 36   & 15.2 & fire    \\\\\n",
       "\t not fire & 25 & 09 & 2012 & 28 & 70 & 15 & 0 & 79.9 & 13.8 & 36.1  & 2.4  & 14.1 & 3    & not fire\\\\\n",
       "\\end{tabular}\n"
      ],
      "text/markdown": [
       "\n",
       "A tibble: 121 × 15\n",
       "\n",
       "| .pred_class &lt;fct&gt; | day &lt;chr&gt; | month &lt;chr&gt; | year &lt;chr&gt; | Temperature &lt;dbl&gt; | RH &lt;chr&gt; | Ws &lt;chr&gt; | Rain &lt;dbl&gt; | FFMC &lt;chr&gt; | DMC &lt;chr&gt; | DC &lt;chr&gt; | ISI &lt;chr&gt; | BUI &lt;chr&gt; | FWI &lt;chr&gt; | Classes &lt;fct&gt; |\n",
       "|---|---|---|---|---|---|---|---|---|---|---|---|---|---|---|\n",
       "| fire     | 01 | 06 | 2012 | 29 | 57 | 18 | 0.0 | 65.7 | 3.4 | 7.6  | 1.3 | 3.4  | 0.5 | not fire |\n",
       "| fire     | 07 | 06 | 2012 | 33 | 54 | 13 | 0.0 | 88.2 | 9.9 | 30.5 | 6.4 | 10.9 | 7.2 | fire     |\n",
       "| not fire | 15 | 06 | 2012 | 28 | 80 | 17 | 3.1 | 49.4 | 3   | 7.4  | 0.4 | 3    | 0.1 | not fire |\n",
       "| ⋮ | ⋮ | ⋮ | ⋮ | ⋮ | ⋮ | ⋮ | ⋮ | ⋮ | ⋮ | ⋮ | ⋮ | ⋮ | ⋮ | ⋮ |\n",
       "| fire     | 21 | 09 | 2012 | 35 | 34 | 17 | 0 | 92.2 | 23.6 | 97.3  | 13.8 | 29.4 | 21.6 | fire     |\n",
       "| fire     | 23 | 09 | 2012 | 35 | 56 | 14 | 0 | 89   | 29.4 | 115.6 | 7.5  | 36   | 15.2 | fire     |\n",
       "| not fire | 25 | 09 | 2012 | 28 | 70 | 15 | 0 | 79.9 | 13.8 | 36.1  | 2.4  | 14.1 | 3    | not fire |\n",
       "\n"
      ],
      "text/plain": [
       "    .pred_class day month year Temperature RH Ws Rain FFMC DMC  DC    ISI  BUI \n",
       "1   fire        01  06    2012 29          57 18 0.0  65.7 3.4  7.6   1.3  3.4 \n",
       "2   fire        07  06    2012 33          54 13 0.0  88.2 9.9  30.5  6.4  10.9\n",
       "3   not fire    15  06    2012 28          80 17 3.1  49.4 3    7.4   0.4  3   \n",
       "⋮   ⋮           ⋮   ⋮     ⋮    ⋮           ⋮  ⋮  ⋮    ⋮    ⋮    ⋮     ⋮    ⋮   \n",
       "119 fire        21  09    2012 35          34 17 0    92.2 23.6 97.3  13.8 29.4\n",
       "120 fire        23  09    2012 35          56 14 0    89   29.4 115.6 7.5  36  \n",
       "121 not fire    25  09    2012 28          70 15 0    79.9 13.8 36.1  2.4  14.1\n",
       "    FWI  Classes \n",
       "1   0.5  not fire\n",
       "2   7.2  fire    \n",
       "3   0.1  not fire\n",
       "⋮   ⋮    ⋮       \n",
       "119 21.6 fire    \n",
       "120 15.2 fire    \n",
       "121 3    not fire"
      ]
     },
     "metadata": {},
     "output_type": "display_data"
    },
    {
     "data": {
      "text/html": [
       "<table>\n",
       "<caption>A tibble: 2 × 3</caption>\n",
       "<thead>\n",
       "\t<tr><th scope=col>.metric</th><th scope=col>.estimator</th><th scope=col>.estimate</th></tr>\n",
       "\t<tr><th scope=col>&lt;chr&gt;</th><th scope=col>&lt;chr&gt;</th><th scope=col>&lt;dbl&gt;</th></tr>\n",
       "</thead>\n",
       "<tbody>\n",
       "\t<tr><td>accuracy</td><td>binary</td><td>0.8181818</td></tr>\n",
       "\t<tr><td>kap     </td><td>binary</td><td>0.6179679</td></tr>\n",
       "</tbody>\n",
       "</table>\n"
      ],
      "text/latex": [
       "A tibble: 2 × 3\n",
       "\\begin{tabular}{lll}\n",
       " .metric & .estimator & .estimate\\\\\n",
       " <chr> & <chr> & <dbl>\\\\\n",
       "\\hline\n",
       "\t accuracy & binary & 0.8181818\\\\\n",
       "\t kap      & binary & 0.6179679\\\\\n",
       "\\end{tabular}\n"
      ],
      "text/markdown": [
       "\n",
       "A tibble: 2 × 3\n",
       "\n",
       "| .metric &lt;chr&gt; | .estimator &lt;chr&gt; | .estimate &lt;dbl&gt; |\n",
       "|---|---|---|\n",
       "| accuracy | binary | 0.8181818 |\n",
       "| kap      | binary | 0.6179679 |\n",
       "\n"
      ],
      "text/plain": [
       "  .metric  .estimator .estimate\n",
       "1 accuracy binary     0.8181818\n",
       "2 kap      binary     0.6179679"
      ]
     },
     "metadata": {},
     "output_type": "display_data"
    }
   ],
   "source": [
    "set.seed(1)\n",
    "testdata_spec<-nearest_neighbor(weight_func=\"rectangular\",neighbors=7)%>%\n",
    "    set_engine(\"kknn\")%>%\n",
    "    set_mode(\"classification\")\n",
    "\n",
    "testdata_recipe<- recipe( Classes~ Temperature+Rain, data= data_train)%>%\n",
    "step_scale(all_predictors())%>%\n",
    "step_center(all_predictors()) \n",
    "\n",
    "testworkflow<-workflow()%>%\n",
    "    add_recipe(testdata_recipe)%>%\n",
    "    add_model(testdata_spec)%>%\n",
    "    fit(data= data_train)\n",
    "\n",
    "prediction_test_data<- testworkflow%>%\n",
    "    predict(data_test)%>%\n",
    "    bind_cols(data_test_messy)\n",
    "prediction_test_data\n",
    "\n",
    "prediction_test_data_metrics<-prediction_test_data%>%\n",
    "    metrics(truth= Classes, estimate =.pred_class)\n",
    "    \n",
    "prediction_test_data_metrics\n",
    "\n",
    "prediction_test_data_classes<-prediction_test_data%>%\n",
    "    select(.pred_class, Classes)\n"
   ]
  },
  {
   "cell_type": "markdown",
   "metadata": {},
   "source": [
    "Table 8. Testing set with both classes and predicted classes. Table 9. Prediction accuracy of the k-nn model"
   ]
  },
  {
   "cell_type": "markdown",
   "metadata": {},
   "source": [
    "## Discussion (first 2 points)"
   ]
  },
  {
   "cell_type": "markdown",
   "metadata": {},
   "source": [
    "From the scatterplot based on the training data(Figure 1), we can observe that a fire generally occurs where there are low amounts of rain at high temperatures or no rain at lower temperatures. On the other hand, there are generally no fires when there are high amounts of rain at lower temperatures. This relationship suggests that temperature and rain are important factors for predicting forest fires, as a preliminary finding.\n",
    "\n",
    "For the result of our data analysis, our retrained k-nn model using k = 7 is about 0.818, quite close to the accuracy estimate for k = 7 (0.828). This high level of accuracy is satisfactory, which means temperature and rainfall do play a significant role, because taking these two factors into consideration mainly predicted whether a forest fire would occur correctly. This result is consistent with our expectation, that is what exactly what we expected to find.\n",
    "\n",
    "Abid & Izeboudjen (2020) also did the prediction based on the same dataset. Different with our methodology, they used more factors as predictors, including temperature, relative humidity and wind speed. They have established a DT based forest fire prediction system based on decision tree, which is an intelligent sensor node architecture. It can predict fire in an automatic and intelligent way without requiring human intervention. Compared with their resulting accuracy (82.92%), our accuracy (81.82%) are quite close. This suggests that our evaluation that temperature and rain are important factors is reliable and solid.\n"
   ]
  },
  {
   "cell_type": "markdown",
   "metadata": {},
   "source": [
    "## References"
   ]
  },
  {
   "cell_type": "markdown",
   "metadata": {},
   "source": [
    "Abid, F., & Izeboudjen, N. (2020). Predicting forest fire in Algeria using data MINING Techniques: Case study of the decision tree algorithm. Advances in Intelligent Systems and Computing, 363-370. doi:10.1007/978-3-030-36674-2_37"
   ]
  },
  {
   "cell_type": "markdown",
   "metadata": {},
   "source": [
    "Natural Resources Canada (n.d.). Canadian Forest Fire Weather Index (FWI) System. Retrieved \n",
    "from https://cwfis.cfs.nrcan.gc.ca/background/summary/fwi"
   ]
  }
 ],
 "metadata": {
  "kernelspec": {
   "display_name": "R",
   "language": "R",
   "name": "ir"
  },
  "language_info": {
   "codemirror_mode": "r",
   "file_extension": ".r",
   "mimetype": "text/x-r-source",
   "name": "R",
   "pygments_lexer": "r",
   "version": "4.0.0"
  }
 },
 "nbformat": 4,
 "nbformat_minor": 4
}
